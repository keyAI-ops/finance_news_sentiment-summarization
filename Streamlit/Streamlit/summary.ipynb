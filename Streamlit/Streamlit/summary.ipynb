{
  "nbformat": 4,
  "nbformat_minor": 0,
  "metadata": {
    "colab": {
      "provenance": []
    },
    "kernelspec": {
      "name": "python3",
      "display_name": "Python 3"
    },
    "language_info": {
      "name": "python"
    }
  },
  "cells": [
    {
      "cell_type": "code",
      "source": [
        "from google.colab import drive\n",
        "drive.mount('/content/drive')"
      ],
      "metadata": {
        "colab": {
          "base_uri": "https://localhost:8080/"
        },
        "id": "HihhDXrubMgW",
        "outputId": "cf2ce32f-e689-4905-fa48-a49d1f4c3f1b"
      },
      "execution_count": null,
      "outputs": [
        {
          "output_type": "stream",
          "name": "stdout",
          "text": [
            "Mounted at /content/drive\n"
          ]
        }
      ]
    },
    {
      "cell_type": "code",
      "metadata": {
        "id": "GZA8dewtuNDs"
      },
      "source": [
        "!pip install transformers==4.9.2"
      ],
      "execution_count": null,
      "outputs": []
    },
    {
      "cell_type": "code",
      "metadata": {
        "id": "KjXsPeEmuNDt",
        "colab": {
          "base_uri": "https://localhost:8080/",
          "height": 177,
          "referenced_widgets": [
            "1dccda8a28e94aec890ea206fa027696",
            "1e399a8d05094d33b5c86e3ff525dbaf",
            "ea026473e29e461a9e851ef9bab4f9e1",
            "afd595245f0848d58e6f32a3642a4908",
            "4feef475dd5c4fa5a9b058abb768b1ac",
            "87848d623f924942bb547037aec75b04",
            "e17bd4d2428a4419a5de16df792bcde5",
            "bfd1317d030c4a83b5321ba4556a2e0e",
            "b6d2fd72be3549be84f0eae5abe92365",
            "5fb773fa1b5a4779905b1b11e28f7108",
            "486a161f810a442aa4503096aed22743",
            "c7fe77643b3d4f93923be5a3fdd503ef",
            "b62c8b17d33741f4994f6bbc264e08ff",
            "ddf19f1e3aa849918a2201dadc4ac8d3",
            "b4341b45663e45ad9daf9eab071093f4",
            "8d3f96263802409eb09be8a82d23afa0",
            "b1ff6a91a1364958be726c466b32ee57",
            "0e94de75407f456b9fa6cc5d863b1de0",
            "3c63d3c79e354a8cabc21261f5e20bde",
            "4f327b672b844729aced4442af6e7cdf",
            "59422c54589f49458261230c5af733ad",
            "bf822f6533a845b2bc5182dcaa3a4e2a",
            "6d7b1e180c8249729055ab5c0b80c209",
            "e1cf5e810f19426ea25bd9db08238b2d",
            "b7ed010e5f234817945064b4cb73da6a",
            "48fbffb4394a4638a1d2f3553b16be3d",
            "f2e847a56c504deebf967bc19a9460cd",
            "17807cab00ab46519ad98efac4d2e4de",
            "fa0aa8aa78774c338788a02a6ed8820c",
            "f684a3010b464234b41551e7951b5d33",
            "1b66e630af3e4f80a39ea8fcf3250c16",
            "3e968404ed7842c1a6f079691d32c7ff",
            "47ca994dd1014b108ed562e7f997d63c",
            "ea58987d538a4acb9c6adf1bbcd8ca4f",
            "048ea5b87817461fb0d64cbab27d1289",
            "63707bca900742818dfdf3e23019e6f5",
            "a299a1e9f37b48eb8e28b672bb4edc30",
            "e1c87af3c28d4844a9ebe5c4520bb4dc",
            "f9b8b8c831594541b29bac37c306b9f9",
            "88eae6f12c4144418b631f90d840c556",
            "9c269f32b0a443139b4069788486c5ed",
            "1fade0d3ccf94841ad4e4ae77ee4b41f",
            "e9f1bf51d8b34e41b725b7380a943802",
            "fedad2a30a004095868b36fbb8051d06",
            "6f7e0a5a75a5433bab9279afdf66f527",
            "5b153f651b664b3a92291cd416144e71",
            "3546a1c488674f8eb74c0a4d2b057161",
            "da645b42a078406ea089e631f7abf958",
            "999728aedf084b658f4d6d5d76bb6adf",
            "406f56a41b724fa1addd993f65307535",
            "81fa0e35524140e98c72796d3ae3ac59",
            "bda908baf85c4c99b598df5a46411cf3",
            "354657ef4524448bb350399adaccd2f6",
            "606f9d6475744324b254a1ecb955727d",
            "0e202a73f0434146a955979831591d8f"
          ]
        },
        "outputId": "8ed7b11e-84e4-4d1e-f341-e5402336f425"
      },
      "source": [
        "import torch\n",
        "from transformers import GPT2LMHeadModel, PreTrainedTokenizerFast\n",
        "from transformers import AutoTokenizer\n",
        "from transformers import AutoModelForSeq2SeqLM\n",
        "import pandas as pd\n",
        "\n",
        "tokenizer = AutoTokenizer.from_pretrained(\"noahkim/KoT5_news_summarization\")\n",
        "model = AutoModelForSeq2SeqLM.from_pretrained(\"noahkim/KoT5_news_summarization\")"
      ],
      "execution_count": null,
      "outputs": [
        {
          "output_type": "display_data",
          "data": {
            "text/plain": [
              "Downloading:   0%|          | 0.00/2.38k [00:00<?, ?B/s]"
            ],
            "application/vnd.jupyter.widget-view+json": {
              "version_major": 2,
              "version_minor": 0,
              "model_id": "1dccda8a28e94aec890ea206fa027696"
            }
          },
          "metadata": {}
        },
        {
          "output_type": "display_data",
          "data": {
            "text/plain": [
              "Downloading:   0%|          | 0.00/2.92M [00:00<?, ?B/s]"
            ],
            "application/vnd.jupyter.widget-view+json": {
              "version_major": 2,
              "version_minor": 0,
              "model_id": "c7fe77643b3d4f93923be5a3fdd503ef"
            }
          },
          "metadata": {}
        },
        {
          "output_type": "display_data",
          "data": {
            "text/plain": [
              "Downloading:   0%|          | 0.00/2.20k [00:00<?, ?B/s]"
            ],
            "application/vnd.jupyter.widget-view+json": {
              "version_major": 2,
              "version_minor": 0,
              "model_id": "6d7b1e180c8249729055ab5c0b80c209"
            }
          },
          "metadata": {}
        },
        {
          "output_type": "display_data",
          "data": {
            "text/plain": [
              "Downloading:   0%|          | 0.00/813 [00:00<?, ?B/s]"
            ],
            "application/vnd.jupyter.widget-view+json": {
              "version_major": 2,
              "version_minor": 0,
              "model_id": "ea58987d538a4acb9c6adf1bbcd8ca4f"
            }
          },
          "metadata": {}
        },
        {
          "output_type": "display_data",
          "data": {
            "text/plain": [
              "Downloading:   0%|          | 0.00/1.10G [00:00<?, ?B/s]"
            ],
            "application/vnd.jupyter.widget-view+json": {
              "version_major": 2,
              "version_minor": 0,
              "model_id": "6f7e0a5a75a5433bab9279afdf66f527"
            }
          },
          "metadata": {}
        }
      ]
    },
    {
      "cell_type": "code",
      "metadata": {
        "id": "ejK--Ti8uNDt"
      },
      "source": [
        "import numpy as np\n",
        "import random\n",
        "\n",
        "def set_seed(random_seed):\n",
        "    torch.random.manual_seed(random_seed)\n",
        "    torch.manual_seed(random_seed)\n",
        "    torch.cuda.manual_seed(random_seed)\n",
        "    torch.backends.cudnn.deterministic = True\n",
        "    torch.backends.cudnn.benchmark = False\n",
        "    np.random.seed(random_seed)\n",
        "    random.seed(random_seed)\n"
      ],
      "execution_count": null,
      "outputs": []
    },
    {
      "cell_type": "code",
      "metadata": {
        "id": "vHDikSuCuNDu"
      },
      "source": [
        "set_seed(777)"
      ],
      "execution_count": null,
      "outputs": []
    },
    {
      "cell_type": "code",
      "source": [
        "output = pd.read_csv('/content/drive/MyDrive/_label_title_HJ중공업_2023.2.22_10시시.csv')\n",
        "#output['content_dropout'] = output['content']\n",
        "a = output['content']"
      ],
      "metadata": {
        "id": "vrigj_PhWkbL"
      },
      "execution_count": null,
      "outputs": []
    },
    {
      "cell_type": "markdown",
      "source": [
        "# a의 변수에 대해서 전체 요약하는 코딩"
      ],
      "metadata": {
        "id": "S3fJjsPSJ7my"
      }
    },
    {
      "cell_type": "code",
      "metadata": {
        "id": "MiZH_qkGuNDv"
      },
      "source": [
        "summary = []\n",
        "\n",
        "for index, content in enumerate(a):\n",
        "    text = a[index]\n",
        "    input_ids = tokenizer.encode(text)\n",
        "    gen_ids = model.generate(torch.tensor([input_ids]),\n",
        "                              max_length=1000,repetition_penalty=1.4,\n",
        "                              top_k=6,\n",
        "                              temperature=1.0,                          \n",
        "                              pad_token_id=tokenizer.pad_token_id,\n",
        "                              eos_token_id=tokenizer.eos_token_id,\n",
        "                              bos_token_id=tokenizer.bos_token_id)\n",
        "    generated = tokenizer.decode(gen_ids[0,:].tolist())\n",
        "    summary.append(generated)"
      ],
      "execution_count": null,
      "outputs": []
    },
    {
      "cell_type": "code",
      "source": [
        "summary"
      ],
      "metadata": {
        "colab": {
          "base_uri": "https://localhost:8080/"
        },
        "id": "Yr0Ab8JGzLzi",
        "outputId": "cbcab16b-a32f-462b-8082-5ca340d31cba"
      },
      "execution_count": null,
      "outputs": [
        {
          "output_type": "execute_result",
          "data": {
            "text/plain": [
              "['<pad>HJ중공업은 금융권 차입으로 건조하던 기존 선박 발주 방식에 더해 소규모 분산 투자로 공모 펀드를 모으는 작업을 시도한다고 20일 밝혔으며,ST는 부동산이나 미술품, 주식 등 전통 자산을 기반으로 발행되며,부산디지털상품거래소 설립을 준비하는 시와도 상호 협력의 폭을 넓힐 계획이다.</s>',\n",
              " \"<pad>HJ중공업 조선 부문은 20일, 최근 한국토지신탁과 미래에셋증권과의 선박금융 관련 ‘증권형 토큰(STO)' 활성화에 상호협력하기로 했다고 밝혔는데, 이는 부동산에 이어 소규모 투자가 어려웠던 선박금융 분야에 국내 최초로 증권형 토큰을 도입하겠다는 뜻으로 이번 협약을 계기로 부산시와도 상호 협력의 폭을 넓힐 계획이다.</s>\",\n",
              " \"<pad>HJ중공업은 한국토지신탁, 미래에셋증권과 함께 선박금융 관련 증권형 토큰(STO) 활성화에 상호 협력하는 내용의 양해각서를 체결했다고 20일 밝혔으며 협약기관들은 △블록체인 기술을 활용한 선박금융 관련 증권형 토큰 발행 등 협력사업 발굴과 ‘금융규제샌드박스 신청을 포함한 신규 비즈니스모델 발굴'을 주요 골자로 상호 협력하기로 하고 향후 세부 추진방안을 협의할 예정이다.</s>\",\n",
              " '<pad>부산 조선업계가 10년만에 중대형상선을 수주했는데, 이는 수년째 정부의 조선산업 지원 정책에서 소외당한 부산이 적극적으로 수주전에 나서 거둔 값진 성과로 HJ중공업은 차세대 친환경선 건조 기술력과 컨테이너선 경쟁력까지 재확인하며 수년간 선박 건조에 수반되는 각종 부자재 발주가 이뤄져 부산의 조선기자재업계에도 단비가 내릴 전망이다.</s>',\n",
              " '<pad>HJ중공업은 국제해사기구의 2050년 해상 탄소중립 정책과 이에 따른 탈(脫) 탄소 선박 발주에 대응하고자 그린십 기반의 컨테이너 운반선 개발에 힘쓰며 시장 선점을 위해 노력한 결과, 9000TEU급 메탄올 추진 컨테이너선 2척에 대한 건조계약을 체결했다고 15일 밝혔다.</s>',\n",
              " '<pad>HJ중공업은 15일, 차세대 친환경 선박인 9000TEU급 메탄올 추진선을 건조하면서 컨테이너선 수주 잔량도 10척으로 늘렸으며 이번에 수주로 인해 부산시와 시민단체는 지역경제 활성화를 위해 적극적으로 지원한 것으로 알려졌다.</s>',\n",
              " '<pad>HJ중공업은 국제해사기구의 2050년 해상 탄소중립 정책과 이에 따른 탈탄소 선박 발주에 대응하기 위해 그린십 기반의 컨테이너 운반선 개발에 나서며 시장 선점을 위한 노력으로, 국적 해운사 HMM으로부터 메탄올 추진 컨테이너선 2척을 수주하여 친환경 선박 기술력을 보유했음을 입증하며 컨테이너선 경쟁력을 재확인했다.</s>',\n",
              " '<pad>HJ중공업 조선부문은 국제해사기구(IMO)의 2050년 해상 탄소중립 정책과 이에 따른 탈탄소 선박 발주에 대응하고자 그린십 기반의 컨테이너 운반선 개발에 힘쓰며 시장 선점을 위해 노력한 결과, 9000TEU급 메탄올 추진 컨테이너선 2척에 대한 건조계약을 체결했다고 15일 밝혔으며 이번 수주를 통해 대형조선사에 견줄만한 친환경 선박 기술력을 보유했음을 입증하며 컨테이너선 경쟁력을 재확인했다.</s>']"
            ]
          },
          "metadata": {},
          "execution_count": 11
        }
      ]
    },
    {
      "cell_type": "markdown",
      "source": [
        "그냥 하나만 요약하는 코딩"
      ],
      "metadata": {
        "id": "bPhCJqqZKJ43"
      }
    },
    {
      "cell_type": "code",
      "source": [
        "a[1]"
      ],
      "metadata": {
        "colab": {
          "base_uri": "https://localhost:8080/",
          "height": 161
        },
        "id": "anlvrqWEnZrV",
        "outputId": "86cedd57-aec2-4bae-fc91-f5c35f23a0d3"
      },
      "execution_count": null,
      "outputs": [
        {
          "output_type": "execute_result",
          "data": {
            "text/plain": [
              "'HJ중공업, 토지신탁 등과 MOU선박금융 분야 국내 첫 STO 도입투자자가 선박 권리 나눠서 소유고가의 빌딩에 이어 초대형 선박에도 개인이 분할 투자를 할 수 있는 시대가 열린다.HJ중공업 조선 부문은 20일 “최근 한국토지신탁, 미래에셋증권과 선박금융 관련 ‘증권형 토큰(STO)’ 활성화에 상호협력하기로 했다”고 밝혔다. 3개사는 블록체인 기술을 활용한 선박금융 증권형 토큰을 발행하고, 신규 비즈니스모델을 발굴하기로 양해각서(MOU)를 체결했다.증권형 토큰은 블록체인 기술을 활용해 주식이나 채권, 부동산 등 실물 증권을 디지털화한 자산이다. 현실에 있는 자산의 가치를 쪼개서 개별 암호화폐에 고정시킨다는 뜻이다.블록체인 기술이 활성화되면서 최근 부동산뿐 아니라 미술품, 주식 등 전통 자산을 기반으로 증권형 토큰 발행이 이어지고 있다. 지난해에는 세종텔레콤 컨소시엄이 부산의 빌딩을 대상으로 한 블록체인 조각투자 서비스 ‘비브릭’을 선보이기도 했다.HJ중공업은 이번 MOU를 통해 부동산에 이어 소규모 투자가 어려웠던 선박금융 분야에 국내 최초로 증권형 토큰을 도입하겠다는 뜻을 밝힌 셈이다. 앞서 HJ중공업은 지난해 부산시가 주최한 ‘블록체인 위크 인 부산 2022’ 콘퍼런스에서 조선업계 최초로 증권형 토큰을 활용한 선박금융과 조선업 활성화 방향을 제시한 바 있다.HJ중공업은 건조되는 선박의 권리를 디지털로 잘게 쪼개 토큰화하면 투자자가 선박을 분할 소유할 수 있다는 점에 주목했다. 전통적인 방식으로 선박을 건조하려면 선주가 자본을 대고 금융권에서도 차입이 필요했다.그러나 선박에 대한 증권형 토큰을 발행해 개인이 조각 투자할 수 있게 되면 이야기가 달라진다. 조선소는 조선소대로 토큰으로 선박 건조 대금을 미리 확보할 수 있게 되고, 선주는 선주대로 금융권의 차입 없이도 손쉽게 원하는 선복량을 확보할 수 있게 되면서 전체적으로 조선업계에 일감이 늘어날 수 있게 된다는 게 HJ중공업의 설명이다.개인 투자자는 투자사를 통해 증권형 토큰을 구입하면 실제 선박 건조에 소액으로 참여할 수도 있고, 이미 운항 중인 선박에 투자해 용선료에 따른 배당을 받을 수도 있다. 용선 계약이 끝나거나 선박을 매각할 경우 거기서 생기는 수익도 나눈다.이번 협약을 계기로 HJ중공업은 디지털자산거래소 설립을 준비하는 부산시와도 상호 협력의 폭을 넓힐 계획이다. HJ중공업 측은 “국내 최고 수준의 투자금융 노하우를 가진 한국토지신탁과 미래에셋증권 양 기관과의 협업을 통해 선박금융이 활성화되길 기대한다”며 “선주와 조선사, 투자자, 기자재업계 등 조선업 관계자 모두가 윈윈하는 새로운 비즈니스 모델을 발굴할 수 있도록 지속해서 노력할 것”이라고 전했다.'"
            ],
            "application/vnd.google.colaboratory.intrinsic+json": {
              "type": "string"
            }
          },
          "metadata": {},
          "execution_count": 7
        }
      ]
    },
    {
      "cell_type": "code",
      "metadata": {
        "id": "h0_8isE80PbV"
      },
      "source": [
        "text = a[1]\n",
        "input_ids = tokenizer.encode(text)\n",
        "gen_ids = model.generate(torch.tensor([input_ids]),\n",
        "                           max_length=1000,repetition_penalty=1.4,\n",
        "                           top_k=6,\n",
        "                           temperature=1.0,                          \n",
        "                           pad_token_id=tokenizer.pad_token_id,\n",
        "                           eos_token_id=tokenizer.eos_token_id,\n",
        "                           bos_token_id=tokenizer.bos_token_id)"
      ],
      "execution_count": null,
      "outputs": []
    },
    {
      "cell_type": "code",
      "metadata": {
        "id": "YwyDgyC8uNDw",
        "outputId": "7a55e283-e2ca-4d29-d672-d890d7713058",
        "colab": {
          "base_uri": "https://localhost:8080/",
          "height": 54
        }
      },
      "source": [
        "generated = tokenizer.decode(gen_ids[0,:].tolist())\n",
        "generated"
      ],
      "execution_count": null,
      "outputs": [
        {
          "output_type": "execute_result",
          "data": {
            "text/plain": [
              "\"<pad>HJ중공업 조선 부문은 20일, 최근 한국토지신탁과 미래에셋증권과의 선박금융 관련 ‘증권형 토큰(STO)' 활성화에 상호협력하기로 했다고 밝혔는데, 이는 부동산에 이어 소규모 투자가 어려웠던 선박금융 분야에 국내 최초로 증권형 토큰을 도입하겠다는 뜻으로 이번 협약을 계기로 부산시와도 상호 협력의 폭을 넓힐 계획이다.</s>\""
            ],
            "application/vnd.google.colaboratory.intrinsic+json": {
              "type": "string"
            }
          },
          "metadata": {},
          "execution_count": 9
        }
      ]
    }
  ]
}